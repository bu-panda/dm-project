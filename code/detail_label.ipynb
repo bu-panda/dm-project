{
 "cells": [
  {
   "cell_type": "code",
   "execution_count": 2,
   "metadata": {
    "collapsed": false
   },
   "outputs": [],
   "source": [
    "#import sys\n",
    "#sys.path = ['', '/Users/panda/miniconda2/lib/python27.zip',\n",
    "#            '/Users/panda/miniconda2/lib/python2.7', '/Users/panda/miniconda2/lib/python2.7/plat-darwin', \n",
    "#            '/Users/panda/miniconda2/lib/python2.7/plat-mac', \n",
    "#            '/Users/panda/miniconda2/lib/python2.7/plat-mac/lib-scriptpackages', \n",
    "#            '/Users/panda/miniconda2/lib/python2.7/lib-tk', '/Users/panda/miniconda2/lib/python2.7/lib-old', \n",
    "#            '/Users/panda/miniconda2/lib/python2.7/lib-dynload', '/Users/panda/miniconda2/lib/python2.7/site-packages', \n",
    "#            '/Users/panda/miniconda2/lib/python2.7/site-packages/setuptools-19.6.2-py2.7.egg']\n",
    "\n",
    "import seaborn as sns\n",
    "import json\n",
    "import pandas as pd\n",
    "import numpy as np\n",
    "from pandas.io import data\n",
    "from pandas import Series, DataFrame\n",
    "import nltk\n",
    "import matplotlib.pyplot as plt\n",
    "import math\n",
    "import datetime\n",
    "import matplotlib.pyplot as plt\n",
    "import scipy as sp\n",
    "import scipy.sparse.linalg as linalg\n",
    "import scipy.cluster.hierarchy as hr\n",
    "from scipy.spatial.distance import pdist, squareform\n",
    "\n",
    "import sklearn.datasets as datasets\n",
    "import sklearn.metrics as metrics\n",
    "import sklearn.linear_model as linear_model\n",
    "import sklearn.svm as svm\n",
    "import sklearn.cross_validation as cross_validation\n",
    "import sklearn.cluster as cluster\n",
    "from sklearn.ensemble import AdaBoostClassifier\n",
    "import sklearn.datasets as sk_data\n",
    "from sklearn.cluster import KMeans\n",
    "from sklearn import mixture\n",
    "from sklearn.neighbors import KNeighborsClassifier\n",
    "from sklearn.decomposition import TruncatedSVD\n",
    "from sklearn.preprocessing import StandardScaler\n",
    "import sklearn.utils as utils\n",
    "\n",
    "import statsmodels.api as sm\n",
    "\n",
    "from patsy import dmatrices\n",
    "\n",
    "import seaborn as sns\n",
    "\n",
    "import numpy as np\n",
    "\n",
    "\n",
    "from scipy.spatial.distance import pdist, squareform\n",
    "    \n",
    "import gmplot\n",
    "import collections\n",
    "%matplotlib inline"
   ]
  },
  {
   "cell_type": "markdown",
   "metadata": {},
   "source": [
    "## Class Station\n",
    "This is the class to aggregate data. Latter we will use its location information to draw our results on map"
   ]
  },
  {
   "cell_type": "code",
   "execution_count": 3,
   "metadata": {
    "collapsed": false
   },
   "outputs": [],
   "source": [
    "'''\n",
    "Cluster is based on each station's information, so this class is the abstract of station.\n",
    "\n",
    "'''\n",
    "class Station(object):\n",
    "    \n",
    "    # @station_id int\n",
    "    # Use an integer number to initilize an station instance\n",
    "    def __init__(self, station_id):\n",
    "        self.station_id = station_id\n",
    "        self.features = ['TEMP', 'DEWP', 'SLP', 'STP',\n",
    "                         'VISIB','WDSP','MXSPD',\n",
    "                         'GUST','MAX','MIN','SNDP','FOG',\n",
    "                        'RAIN','SNOW','HAIL','THUNDER','TORNADO']\n",
    "        \n",
    "        self.missingValue = [9999.9, 9999.9, 9999.9, 9999.9,\n",
    "                            999.9, 999.9, 999.9,999.9,\n",
    "                             9999.9, 9999.9,999.9,\n",
    "                            -1,-1,-1,-1,-1,-1]\n",
    "        \n",
    "        self.META = {}\n",
    "        self.data = {}\n",
    "        self.location = [0.0,0.0]\n",
    "        \n",
    "        for x in xrange(1,13,1):\n",
    "            self.META[x] = {}\n",
    "            self.data[x] = {}\n",
    "            for name in self.features:\n",
    "            \n",
    "                self.META[x][name] = 0\n",
    "                self.data[x][name] = 0\n",
    "    \n",
    "        \n",
    "    \n",
    "    # @month int\n",
    "    # @data dict, must include all the fields that list in self.features\n",
    "    # This method will filt all the default or missing value\n",
    "    def inputData(self, month, data):\n",
    "        \n",
    "        for i in xrange(len(self.features)):\n",
    "            name = self.features[i]\n",
    "            \n",
    "            rs = data.get(name, None)\n",
    "            \n",
    "            if rs != None and rs != self.missingValue[i] :\n",
    "                self.data[month][name] += rs\n",
    "                self.META[month][name] += 1\n",
    "    \n",
    "    # @month int\n",
    "    # return the summary for each month. This is an inner function\n",
    "    def summaryByMonth(self, month):\n",
    "        exp = ['FOG','RAIN','SNOW','HAIL','THUNDER','TORNADO']\n",
    "        result = []\n",
    "        for kind in self.features:\n",
    "            \n",
    "            if kind in exp:\n",
    "                result.append(self.data[month][kind])\n",
    "            else:\n",
    "                v = 0.0\n",
    "                if self.META[month][kind] != 0:\n",
    "                    v = (self.data[month][kind]+0.0) / (self.META[month][kind])\n",
    "                result.append(v)\n",
    "        return result\n",
    "                    \n",
    "    \n",
    "    # For each station, this method return the summary.\n",
    "    # This method return the feature vector for analyzing\n",
    "    def summaryFeatureVector(self):\n",
    "        rs = []\n",
    "        for x in xrange(1,13,1):\n",
    "            rs.extend(self.summaryByMonth(x))\n",
    "        return rs\n",
    "    \n",
    "    # This method return method dictinary\n",
    "    def summaryByDict(self):\n",
    "        rs = {}\n",
    "        for x in xrange(1,13,1):\n",
    "            rs[x] = self.summaryByMonth(x)\n",
    "        return rs\n",
    "\n"
   ]
  },
  {
   "cell_type": "markdown",
   "metadata": {},
   "source": [
    "### Other helper functions\n"
   ]
  },
  {
   "cell_type": "code",
   "execution_count": 4,
   "metadata": {
    "collapsed": true
   },
   "outputs": [],
   "source": [
    "\n",
    "# Some of the data may contains one bit flag like '*,A,I' and so on\n",
    "# This method will pop this value if it contains one bit tag\n",
    "def extractNumber(s):\n",
    "    last = s[-1]\n",
    "    l = len(s)\n",
    "    if ord(last) >= ord('0') and ord(last) <= ord('9'):\n",
    "        return s\n",
    "    else:\n",
    "        return s[0:l-1]\n",
    "\n",
    "# 6 special weather are represented by 6-bits string in the raw data\n",
    "# Here I extract them and write the value to its coresponded field  \n",
    "def extractSpecialWeather(d, s):\n",
    "    w = ['FOG', 'RAIN', 'SNOW', 'HAIL', 'THUNDER', 'TORNADO']\n",
    "    if len(s) != 6 :\n",
    "        print 'alert! not well-formed data'\n",
    "    \n",
    "    for i in xrange(6):\n",
    "        if s[i] == '1':\n",
    "            d[w[i]] = 1\n",
    "        else:\n",
    "            d[w[i]] = 0\n",
    "    return d\n",
    "    \n",
    "# Input the joined data file path\n",
    "# Read line by line and build a dict with all stations\n",
    "def buildStationDict(filepath):\n",
    "    rs = {}\n",
    "    f = open(filepath)\n",
    "    names = ['TEMP', 'DEWP', 'SLP', 'STP', 'VISIB', 'WDSP', 'MXSPD', \n",
    "             'GUST', 'MAX', 'MIN', 'SNDP', 'FOG', 'RAIN', 'SNOW', 'HAIL', \n",
    "             'THUNDER', 'TORNADO']\n",
    "    for each in f:\n",
    "        data = each.strip().split(',')\n",
    "        station_id = int(data[0])\n",
    "        month = data[2][4:6]\n",
    "        month = int(month)\n",
    "        fdict = {}\n",
    "        i = 0\n",
    "        for x in xrange(3, 17, 2):\n",
    "            fdict[names[i]] = float(data[x])\n",
    "            i+=1\n",
    "        fdict['GUST'] = float(data[16])\n",
    "        \n",
    "        maxV = extractNumber(data[17])\n",
    "        minV = extractNumber(data[18])\n",
    "        \n",
    "        \n",
    "        fdict['MAX'] = float(maxV)\n",
    "        fdict['MIN'] = float(minV)\n",
    "        fdict['SNDP'] = float(data[20])\n",
    "        fdict = extractSpecialWeather(fdict, data[21])\n",
    "        \n",
    "        if rs.get(station_id) == None:\n",
    "            p = Station(station_id)\n",
    "            rs[station_id] = p\n",
    "        p = rs[station_id]\n",
    "        p.location = [data[-2],data[-1]]\n",
    "        p.inputData(month, fdict)\n",
    "    return rs\n",
    "        \n",
    "        \n",
    "\n",
    "        \n",
    "# Convert raw data location format\n",
    "# For the latitude and logitude, E,N will be positive while W,S will be negative\n",
    "def getLocation(loc):\n",
    "    rs = [0,0]\n",
    "    \n",
    "    la = loc[0]\n",
    "    lo = loc[1]\n",
    "    \n",
    "    end_la = la[-1]\n",
    "    end_lo = lo[-1]\n",
    "    \n",
    "    l1 = len(la)\n",
    "    l2 = len(lo)\n",
    "    \n",
    "    la = la[0:l1-1]\n",
    "    lo = lo[0: l2-1]\n",
    "    \n",
    "    if end_la == 'N':\n",
    "        rs[0] = float(la) / 100.0\n",
    "    else:\n",
    "        rs[0] = float(la) / -100.0\n",
    "    \n",
    "    if end_lo == 'E':\n",
    "        rs[1] = float(lo) / 100.0\n",
    "    else:\n",
    "        rs[1] = float(lo) / -100.0\n",
    "    return rs    \n",
    "    \n",
    "# @data pandas.DataFrame  Must contains 3 feilds, 'latitude','longitude','label'\n",
    "# @filepath str specify where you want to store the result\n",
    "# @colors, If you have more than 6 labels, you should specify your own color list\n",
    "def showOnMap(data, filepath,colors = []):\n",
    "    gmap = gmplot.GoogleMapPlotter(36.161517,-115.164011,16)\n",
    "\n",
    "    la = list(data['latitude'])\n",
    "    lo = list(data['longitude'])\n",
    "    label = list(data['label'])\n",
    "    \n",
    "    if len(colors) == 0:\n",
    "        colors = ['#ff0000','#00ff00','#0000ff','#ffff00','#ff00ff','#00ffff']\n",
    "    draw_la = collections.defaultdict(list)\n",
    "    draw_lo = collections.defaultdict(list)\n",
    "\n",
    "    kind = len(colors)\n",
    "    for i in range(len(label)):\n",
    "        try:\n",
    "            color = colors[int(label[i]) % kind]\n",
    "        \n",
    "            draw_la[color].append(la[i])\n",
    "            draw_lo[color].append(lo[i])\n",
    "        except:\n",
    "            print i\n",
    "            print label[i]\n",
    "\n",
    "    for each in draw_la.keys():\n",
    "        gmap.scatter(draw_la[each], draw_lo[each], each, size=10000, marker=False)\n",
    "    gmap.draw(filepath)   \n",
    "\n",
    "    \n",
    "# @data pandas.DataFrame\n",
    "# @n_clusters  How many clusters you want\n",
    "# @plot_graph Only to be True if you want to plot the graph, especially when there are only 2 labels\n",
    "def GMMCluster(data, n_clusters = 3, plot_graph = False):\n",
    "    colors = np.array([x for x in 'bgrcmykbgrcmykbgrcmykbgrcmyk'])\n",
    "    print n_clusters\n",
    "    gmm = mixture.GMM(n_components=n_clusters, covariance_type='diag')\n",
    "    gmm.fit(data)\n",
    "    y_pred = gmm.predict(data)\n",
    "    \n",
    "    if plot_graph:   \n",
    "        plt.scatter(data[:, 0], data[:, 1], s=10,color=colors[y_pred].tolist(), alpha=0.8)\n",
    "        plt.show()\n",
    "    return y_pred\n",
    "\n",
    "'''\n",
    "data: ndarray. Data matrix\n",
    "n_clusters: int. How many clusters you want to have.\n",
    "detail: bool. Whether to out put some detail information\n",
    "plot_graph: bool. Whether to plot heat graph to compare unsorted and sorted label. \n",
    "\n",
    "return type (labels, centers)\n",
    "'''\n",
    "def kMeansCluster(data,clusters = 10, detail = False,plot_graph = False):\n",
    "    colors = np.array([x for x in 'bgrcmykbgrcmykbgrcmykbgrcmyk'])\n",
    "    kmeans = KMeans(init='k-means++', n_clusters=clusters, n_init=10)\n",
    "    kmeans.fit_predict(data)\n",
    "    centroids = kmeans.cluster_centers_\n",
    "    labels = kmeans.labels_\n",
    "    error = kmeans.inertia_\n",
    "    \n",
    "    if detail:\n",
    "        print \"The total error of the clustering is: \", error\n",
    "        print '\\nCluster labels'\n",
    "        print labels\n",
    "        print '\\n Cluster Centroids'\n",
    "        print centroids\n",
    "        \n",
    "    if plot_graph:\n",
    "        \n",
    "        plt.scatter(data[:, 0], data[:, 1], s=10,color=colors[labels].tolist(), alpha=0.8)\n",
    "        plt.show()\n",
    "        #idx = np.argsort(labels)\n",
    "        #rX = X[idx,:]\n",
    "        #fig, (ax1, ax2) = plt.subplots(1,2,figsize=(15,10))\n",
    "        #sns.heatmap( rX,xticklabels=False, yticklabels=False, linewidths=0,cbar=True,ax = ax1)\n",
    "        #sns.heatmap( X,xticklabels=False, yticklabels=False, linewidths=0,cbar=True,ax = ax2)\n",
    "    return (labels, centroids)\n",
    "\n",
    "'''\n",
    "data: ndarry. Data matrix\n",
    "begin: int. The beginning test number of cluster\n",
    "end: int. The maximum number of clusters\n",
    "'''\n",
    "def estimateCluster(data, end = 11):\n",
    "    error = np.zeros(end)\n",
    "    error[0] = 0;\n",
    "    for k in range(1,end):\n",
    "        kmeans = KMeans(init='k-means++', n_clusters=k, n_init=10)\n",
    "        kmeans.fit_predict(data)\n",
    "        error[k] = kmeans.inertia_\n",
    "\n",
    "    plt.plot(range(1,len(error)),error[1:])\n",
    "    plt.xlabel('Number of clusters')\n",
    "    plt.ylabel('Error')\n"
   ]
  },
  {
   "cell_type": "markdown",
   "metadata": {},
   "source": [
    "### Build the station dictionary"
   ]
  },
  {
   "cell_type": "code",
   "execution_count": 5,
   "metadata": {
    "collapsed": false
   },
   "outputs": [],
   "source": [
    "m = buildStationDict('data_with_location.csv')"
   ]
  },
  {
   "cell_type": "markdown",
   "metadata": {},
   "source": [
    "### Convert station to feature vector"
   ]
  },
  {
   "cell_type": "code",
   "execution_count": 6,
   "metadata": {
    "collapsed": false
   },
   "outputs": [],
   "source": [
    "features = []\n",
    "locations = []    \n",
    "\n",
    "for station_id in m.keys():    \n",
    "    station = m[station_id]\n",
    "    locations.append( getLocation( station.location) )\n",
    "    features.append(station.summaryFeatureVector())\n",
    "    \n",
    "\n",
    "data = np.array(features)\n"
   ]
  },
  {
   "cell_type": "markdown",
   "metadata": {},
   "source": [
    "### K-Means "
   ]
  },
  {
   "cell_type": "code",
   "execution_count": 7,
   "metadata": {
    "collapsed": false
   },
   "outputs": [
    {
     "data": {
      "image/png": "[encoded data removed]",
      "text/plain": [
       "<matplotlib.figure.Figure at 0x3eb3cc0>"
      ]
     },
     "metadata": {},
     "output_type": "display_data"
    }
   ],
   "source": [
    "ec = estimateCluster(data, 11)"
   ]
  },
  {
   "cell_type": "code",
   "execution_count": 8,
   "metadata": {
    "collapsed": false
   },
   "outputs": [
    {
     "name": "stdout",
     "output_type": "stream",
     "text": [
      "[3 2 1 ..., 1 1 3]\n",
      "[[  2.33052813e+01   1.73307565e+01   2.96857547e+02 ...,   4.85722573e-17\n",
      "    1.73333333e-01  -3.90312782e-18]\n",
      " [  3.56709869e+01   2.67344263e+01   1.01045310e+03 ...,   6.11983339e-02\n",
      "    6.79269465e-01   2.24287087e-03]\n",
      " [  3.52446213e+01   2.67089940e+01  -1.04591891e-11 ...,   3.52760736e-02\n",
      "    6.34202454e-01   7.66871166e-03]\n",
      " ..., \n",
      " [  2.59752071e+01   1.86527560e+01   1.93338421e+02 ...,   8.32667268e-17\n",
      "    1.06666667e+00  -5.63785130e-18]\n",
      " [  4.65513429e+01   3.63502082e+01   9.83534230e+02 ...,   1.31428571e-01\n",
      "    1.27428571e+00   5.71428571e-03]\n",
      " [  4.35016917e+01   3.68525676e+01   1.01900825e+03 ...,   7.85340314e-02\n",
      "    5.65445026e-01   5.23560209e-03]]\n"
     ]
    }
   ],
   "source": [
    "labels,centers = kMeansCluster(data,10)\n",
    "print labels\n",
    "print centers"
   ]
  },
  {
   "cell_type": "code",
   "execution_count": 9,
   "metadata": {
    "collapsed": false
   },
   "outputs": [
    {
     "name": "stdout",
     "output_type": "stream",
     "text": [
      "Index([u'label', u'latitude', u'longitude'], dtype='object')\n"
     ]
    }
   ],
   "source": [
    "las = []\n",
    "los = []\n",
    "label = []\n",
    "i = 0\n",
    "for each in locations:\n",
    "    las.append(each[0])\n",
    "    los.append(each[1])\n",
    "    label.append(labels[i])\n",
    "    i+=1\n",
    "\n",
    "rs = {'latitude':las, 'longitude':los, 'label':label}\n",
    "\n",
    "df = pd.DataFrame(rs)\n",
    "\n",
    "print df.columns\n",
    "\n",
    "colors = ['#000000','#0000FF','#8A2BE2',\n",
    "          '#5F9EA0','#7FFF00','#FF7F50',\n",
    "          '#DC143C', '#00FFFF','#006400',\n",
    "         '#8B008B']\n",
    "\n",
    "    \n",
    "\n",
    "showOnMap(df, 'cluster.html',colors)"
   ]
  },
  {
   "cell_type": "markdown",
   "metadata": {},
   "source": [
    "### Do GMM cluster\n",
    "Do GMM cluster and show it on the map"
   ]
  },
  {
   "cell_type": "code",
   "execution_count": 10,
   "metadata": {
    "collapsed": false
   },
   "outputs": [
    {
     "name": "stdout",
     "output_type": "stream",
     "text": [
      "15\n"
     ]
    }
   ],
   "source": [
    "labels = GMMCluster(data, 15)"
   ]
  },
  {
   "cell_type": "code",
   "execution_count": 11,
   "metadata": {
    "collapsed": false
   },
   "outputs": [
    {
     "name": "stdout",
     "output_type": "stream",
     "text": [
      "Index([u'label', u'latitude', u'longitude'], dtype='object')\n"
     ]
    }
   ],
   "source": [
    "las = []\n",
    "los = []\n",
    "label = []\n",
    "i = 0\n",
    "for each in locations:\n",
    "    las.append(each[0])\n",
    "    los.append(each[1])\n",
    "    label.append(labels[i])\n",
    "    i+=1\n",
    "\n",
    "rs = {'latitude':las, 'longitude':los, 'label':label}\n",
    "\n",
    "df = pd.DataFrame(rs)\n",
    "\n",
    "print df.columns\n",
    "\n",
    "colors = ['#000000','#0000FF','#8A2BE2',\n",
    "          '#5F9EA0','#7FFF00','#FF7F50',\n",
    "          '#DC143C', '#00FFFF','#006400',\n",
    "         '#8B008B', '#556B2F','#483D8B',\n",
    "         '#9400D3','#FFD700','#FF4500']\n",
    "\n",
    "    \n",
    "\n",
    "showOnMap(df, 'GMM-cluster.html',colors)"
   ]
  },
  {
   "cell_type": "markdown",
   "metadata": {
    "collapsed": true
   },
   "source": [
    "## Classification\n",
    "\n",
    "- First part is the helper functions\n",
    "- Prefix of missing value\n",
    "- Use SVM to predict special weather\n",
    "- Draw ROC curve to show our result\n",
    "- Use Ramdom Forest to do classification"
   ]
  },
  {
   "cell_type": "markdown",
   "metadata": {},
   "source": [
    "#### Helper Functions"
   ]
  },
  {
   "cell_type": "code",
   "execution_count": 12,
   "metadata": {
    "collapsed": true
   },
   "outputs": [],
   "source": [
    "import collections\n",
    "\n",
    "# @weather_str 6-bits string. \n",
    "# @in_detail if True, return lables from 0 to 63. If False, return boolean labels\n",
    "def getSpecialWeatherLabel(weather_str, in_detail = True):\n",
    "    \n",
    "    label = 0\n",
    "    for x in range(6):\n",
    "        weight = 1 << x\n",
    "        v = int(weather_str[x])\n",
    "        label += weight*v\n",
    "    \n",
    "    if in_detail:\n",
    "        return label\n",
    "    else:\n",
    "        return label == 0\n",
    "        \n",
    "\n",
    "# For each row in the file, get its features and labels\n",
    "# @filepath input data file path\n",
    "# @return type: pandas.DataFrame\n",
    "def extractClassificationTable(filepath, default_values = None, detail_label = True):\n",
    "    f = open(filepath)\n",
    "    \n",
    "    fdict = collections.defaultdict(list)\n",
    "    names = ['TEMP', 'DEWP', 'SLP', 'STP', 'VISIB', 'WDSP', 'MXSPD', \n",
    "             'GUST', 'MAX', 'MIN', 'SNDP', 'FOG', 'RAIN', 'SNOW', 'HAIL', \n",
    "             'THUNDER', 'TORNADO']\n",
    "    for each in f:\n",
    "        data = each.strip().split(',')\n",
    "        #get month\n",
    "        month = data[2][4:6]\n",
    "        month = int(month)\n",
    "        \n",
    "        fdict['MONTH'].append(month)\n",
    "        \n",
    "        i = 0\n",
    "        for x in xrange(3, 17, 2):\n",
    "            fdict[names[i]].append(float(data[x]))\n",
    "            i+=1\n",
    "        fdict['GUST'].append(float(data[16]))\n",
    "        \n",
    "        maxV = extractNumber(data[17])\n",
    "        minV = extractNumber(data[18])\n",
    "        \n",
    "        \n",
    "        fdict['MAX'].append(float(maxV))\n",
    "        fdict['MIN'].append(float(minV))\n",
    "        fdict['SNDP'].append(float(data[20]))\n",
    "        fdict['LABEL'].append(getSpecialWeatherLabel(data[21], detail_label))\n",
    "        \n",
    "        lati, logi = getLocation([data[-2],data[-1]])\n",
    "        fdict['LAT'].append(lati)\n",
    "        fdict['LOG'].append(logi)\n",
    "    \n",
    "    frame = pd.DataFrame(fdict)\n",
    "    \n",
    "    return frame\n",
    "        \n",
    "\n",
    "def extractClassificationTableWithFilter(filepath, default_values, detail_label = True):\n",
    "    f = open(filepath)\n",
    "    d = [999.9, 9999.9, -1]\n",
    "    fdict = collections.defaultdict(list)\n",
    "    names = ['TEMP', 'DEWP', 'SLP', 'STP', 'VISIB', 'WDSP', 'MXSPD', \n",
    "             'GUST', 'MAX', 'MIN', 'SNDP', 'FOG', 'RAIN', 'SNOW', 'HAIL', \n",
    "             'THUNDER', 'TORNADO']\n",
    "    for each in f:\n",
    "        data = each.strip().split(',')\n",
    "        #get month\n",
    "        month = data[2][4:6]\n",
    "        month = int(month)\n",
    "        \n",
    "        fdict['MONTH'].append(month)\n",
    "        \n",
    "        i = 0\n",
    "        for x in xrange(3, 17, 2):\n",
    "            v = float(data[x])\n",
    "            \n",
    "            if v in d:\n",
    "                avg_value = default_values.get(names[i], 0.0)\n",
    "                fdict[names[i]].append(avg_value)\n",
    "            else:\n",
    "                fdict[names[i]].append(v)\n",
    "            i+=1\n",
    "            \n",
    "        rest = []\n",
    "        #fdict['GUST'].append(float(data[16]))\n",
    "        rest.append(float(data[16]))\n",
    "        \n",
    "        maxV = extractNumber(data[17])\n",
    "        minV = extractNumber(data[18])\n",
    "        rest.append(maxV)\n",
    "        rest.append(minV)\n",
    "        rest.append(float(data[20]))\n",
    "        \n",
    "        rest_names = ['GUST', 'MAX', 'MIN', 'SNDP']\n",
    "        for name, v in zip(rest_names, rest):\n",
    "            if v in d:\n",
    "                avg_value = default_values.get(name, 0.0)\n",
    "                fdict[name].append(avg_value)\n",
    "\n",
    "            else:\n",
    "                fdict[name].append(v)\n",
    "                \n",
    "        \n",
    "        #fdict['MAX'].append(float(maxV))\n",
    "        #fdict['MIN'].append(float(minV))\n",
    "        #fdict['SNDP'].append(float(data[20]))\n",
    "        fdict['LABEL'].append(getSpecialWeatherLabel(data[21], detail_label))\n",
    "        \n",
    "        lati, logi = getLocation([data[-2],data[-1]])\n",
    "        fdict['LAT'].append(lati)\n",
    "        fdict['LOG'].append(logi)\n",
    "    \n",
    "    frame = pd.DataFrame(fdict)\n",
    "    \n",
    "    return frame    \n",
    "\n",
    "    \n",
    "    \n",
    "    \n",
    "    "
   ]
  },
  {
   "cell_type": "code",
   "execution_count": 13,
   "metadata": {
    "collapsed": true
   },
   "outputs": [],
   "source": [
    "# This Cell is used for take sample\n",
    "\n",
    "import random\n",
    "\n",
    "f = open('data_with_location.csv')\n",
    "fin = open('data_narrow.csv','w')\n",
    "\n",
    "for each in f:\n",
    "    i = random.random()\n",
    "    if i < 0.01:\n",
    "        fin.write(each)\n",
    "\n",
    "f.close()\n",
    "fin.close()"
   ]
  },
  {
   "cell_type": "markdown",
   "metadata": {},
   "source": [
    "### Prefix missing values"
   ]
  },
  {
   "cell_type": "code",
   "execution_count": 31,
   "metadata": {
    "collapsed": true
   },
   "outputs": [],
   "source": [
    "classify_dataframe = extractClassificationTable('data_narrow.csv', detail_label = True)"
   ]
  },
  {
   "cell_type": "code",
   "execution_count": 32,
   "metadata": {
    "collapsed": true
   },
   "outputs": [],
   "source": [
    "def mean_columns(name,dataframe):\n",
    "    sum_values=0.0\n",
    "    column_len = len(dataframe[name])\n",
    "    count=0\n",
    "    mean = 0.0\n",
    "    d = [999.9, 9999.9, -1]\n",
    "    for index, row in dataframe.iterrows():\n",
    "        value =  row[name]\n",
    "        if value not in d:\n",
    "            mean += value\n",
    "            count+=1\n",
    "    if count != 0:\n",
    "        sum_values = ((mean+0.0) / count)\n",
    "    else:\n",
    "        sum_values=0\n",
    "    return sum_values"
   ]
  },
  {
   "cell_type": "code",
   "execution_count": 33,
   "metadata": {
    "collapsed": false
   },
   "outputs": [],
   "source": [
    "sum_values= []\n",
    "names = ['SLP', 'DEWP', 'GUST', 'STP', 'WDSP', 'MXSPD', \n",
    "             'TEMP', 'MAX', 'MIN', 'SNDP']\n",
    "for name in names:\n",
    "    value = mean_columns(name,classify_dataframe)\n",
    "    sum_values.append(value)\n",
    "    "
   ]
  },
  {
   "cell_type": "code",
   "execution_count": 34,
   "metadata": {
    "collapsed": true
   },
   "outputs": [],
   "source": [
    "d = {}\n",
    "for n, v in zip(names, sum_values):\n",
    "    d[n] = v\n",
    "\n",
    "classify_dataframe = extractClassificationTableWithFilter('data_narrow.csv', d, True)\n"
   ]
  },
  {
   "cell_type": "code",
   "execution_count": 35,
   "metadata": {
    "collapsed": false
   },
   "outputs": [
    {
     "name": "stdout",
     "output_type": "stream",
     "text": [
      "(23566, 10)\n",
      "0    4\n",
      "1    4\n",
      "2    4\n",
      "3    0\n",
      "4    0\n",
      "5    0\n",
      "6    0\n",
      "7    0\n",
      "8    0\n",
      "9    2\n",
      "Name: LABEL, dtype: int64\n"
     ]
    }
   ],
   "source": [
    "y = classify_dataframe['LABEL']\n",
    "X = classify_dataframe[['DEWP', 'GUST', 'MAX', 'MIN', 'MXSPD', 'SLP', 'SNDP', 'STP','TEMP', 'WDSP']]\n",
    "print X.shape\n",
    "print y.head(10)"
   ]
  },
  {
   "cell_type": "markdown",
   "metadata": {},
   "source": [
    "#### Random Forest"
   ]
  },
  {
   "cell_type": "code",
   "execution_count": 36,
   "metadata": {
    "collapsed": false
   },
   "outputs": [
    {
     "name": "stdout",
     "output_type": "stream",
     "text": [
      "(5000, 10) (5000L,)\n",
      "(18566, 10) (18566L,)\n"
     ]
    }
   ],
   "source": [
    "from sklearn.ensemble import RandomForestClassifier\n",
    "\n",
    "\n",
    "X, y = utils.shuffle(X, y, random_state=1)\n",
    "\n",
    "train_set_size = 5000\n",
    "X_train = X[:train_set_size]  # selects first 10000 rows (examples) for train set\n",
    "y_train = y[:train_set_size]\n",
    "X_test = X[train_set_size:]   # selects from row 10000 until the last one for test set\n",
    "y_test = y[train_set_size:]\n",
    "print(X_train.shape), y_train.shape\n",
    "print(X_test.shape), y_test.shape"
   ]
  },
  {
   "cell_type": "code",
   "execution_count": 37,
   "metadata": {
    "collapsed": false
   },
   "outputs": [
    {
     "data": {
      "text/plain": [
       "RandomForestClassifier(bootstrap=True, class_weight=None, criterion='gini',\n",
       "            max_depth=None, max_features='auto', max_leaf_nodes=None,\n",
       "            min_samples_leaf=1, min_samples_split=2,\n",
       "            min_weight_fraction_leaf=0.0, n_estimators=50, n_jobs=1,\n",
       "            oob_score=True, random_state=None, verbose=0, warm_start=False)"
      ]
     },
     "execution_count": 37,
     "metadata": {},
     "output_type": "execute_result"
    }
   ],
   "source": [
    "rf = RandomForestClassifier(n_estimators=50,oob_score=True)#number of trees in the forest is 50 , '100' gives just little more accuracy than '50'\n",
    "rf.fit(X_train,y_train)"
   ]
  },
  {
   "cell_type": "code",
   "execution_count": 38,
   "metadata": {
    "collapsed": false
   },
   "outputs": [
    {
     "data": {
      "text/plain": [
       "0.65867715178282882"
      ]
     },
     "execution_count": 38,
     "metadata": {},
     "output_type": "execute_result"
    }
   ],
   "source": [
    "pred=rf.predict(X_test)\n",
    "rf.score(X_test,y_test)#mean accuracy 0f the given test data and labels\n"
   ]
  },
  {
   "cell_type": "markdown",
   "metadata": {},
   "source": [
    "### SVM"
   ]
  },
  {
   "cell_type": "code",
   "execution_count": 40,
   "metadata": {
    "collapsed": false
   },
   "outputs": [
    {
     "name": "stdout",
     "output_type": "stream",
     "text": [
      "Accuracy of SVM test set: 0.0719594958526\n"
     ]
    }
   ],
   "source": [
    "import matplotlib.pyplot as plt\n",
    "from sklearn import svm, datasets\n",
    "from sklearn.metrics import roc_curve, auc\n",
    "from sklearn.cross_validation import train_test_split\n",
    "from sklearn.preprocessing import label_binarize\n",
    "from sklearn.multiclass import OneVsRestClassifier\n",
    "from scipy import interp\n",
    "\n",
    "svc = svm.SVC(kernel='linear', max_iter=10000)\n",
    "svc.fit(X_train, y_train)\n",
    "y_pred_test = svc.predict(X_test)\n",
    "print \"Accuracy of SVM test set:\", svc.score(X_test, y_test)"
   ]
  },
  {
   "cell_type": "code",
   "execution_count": 41,
   "metadata": {
    "collapsed": false
   },
   "outputs": [
    {
     "name": "stdout",
     "output_type": "stream",
     "text": [
      "(11783L, 25L)\n"
     ]
    }
   ],
   "source": [
    "X_train, X_test, y_train, y_test = train_test_split(X, y, test_size=.5,\n",
    "                                                    random_state=0)\n",
    "\n",
    "classifier = OneVsRestClassifier(svc)\n",
    "\n",
    "y_score = classifier.fit(X_train, y_train).decision_function(X_test)\n",
    "\n",
    "print y_score.shape\n"
   ]
  },
  {
   "cell_type": "markdown",
   "metadata": {},
   "source": [
    "### Regression\n",
    "+ Mutiple Linear Regression\n",
    "+ Linear Rgression\n",
    "+ Logic Regression based on binary label\n",
    "+ Gradient Boosting Regression Tree"
   ]
  },
  {
   "cell_type": "code",
   "execution_count": 43,
   "metadata": {
    "collapsed": false
   },
   "outputs": [
    {
     "data": {
      "text/html": [
       "<table class=\"simpletable\">\n",
       "<caption>OLS Regression Results</caption>\n",
       "<tr>\n",
       "  <th>Dep. Variable:</th>          <td>LABEL</td>      <th>  R-squared:         </th> <td>   0.069</td> \n",
       "</tr>\n",
       "<tr>\n",
       "  <th>Model:</th>                   <td>OLS</td>       <th>  Adj. R-squared:    </th> <td>   0.068</td> \n",
       "</tr>\n",
       "<tr>\n",
       "  <th>Method:</th>             <td>Least Squares</td>  <th>  F-statistic:       </th> <td>   174.0</td> \n",
       "</tr>\n",
       "<tr>\n",
       "  <th>Date:</th>             <td>Sat, 23 Apr 2016</td> <th>  Prob (F-statistic):</th>  <td>  0.00</td>  \n",
       "</tr>\n",
       "<tr>\n",
       "  <th>Time:</th>                 <td>14:59:57</td>     <th>  Log-Likelihood:    </th> <td> -66520.</td> \n",
       "</tr>\n",
       "<tr>\n",
       "  <th>No. Observations:</th>      <td> 23566</td>      <th>  AIC:               </th> <td>1.331e+05</td>\n",
       "</tr>\n",
       "<tr>\n",
       "  <th>Df Residuals:</th>          <td> 23555</td>      <th>  BIC:               </th> <td>1.331e+05</td>\n",
       "</tr>\n",
       "<tr>\n",
       "  <th>Df Model:</th>              <td>    10</td>      <th>                     </th>     <td> </td>    \n",
       "</tr>\n",
       "<tr>\n",
       "  <th>Covariance Type:</th>      <td>nonrobust</td>    <th>                     </th>     <td> </td>    \n",
       "</tr>\n",
       "</table>\n",
       "<table class=\"simpletable\">\n",
       "<tr>\n",
       "    <td></td>       <th>coef</th>     <th>std err</th>      <th>t</th>      <th>P>|t|</th> <th>[95.0% Conf. Int.]</th> \n",
       "</tr>\n",
       "<tr>\n",
       "  <th>const</th> <td>   40.4819</td> <td>    3.825</td> <td>   10.582</td> <td> 0.000</td> <td>   32.984    47.980</td>\n",
       "</tr>\n",
       "<tr>\n",
       "  <th>DEWP</th>  <td>    0.0849</td> <td>    0.003</td> <td>   30.638</td> <td> 0.000</td> <td>    0.079     0.090</td>\n",
       "</tr>\n",
       "<tr>\n",
       "  <th>GUST</th>  <td>    0.0495</td> <td>    0.007</td> <td>    7.208</td> <td> 0.000</td> <td>    0.036     0.063</td>\n",
       "</tr>\n",
       "<tr>\n",
       "  <th>MAX</th>   <td>-6.881e-05</td> <td> 8.69e-05</td> <td>   -0.792</td> <td> 0.428</td> <td>   -0.000     0.000</td>\n",
       "</tr>\n",
       "<tr>\n",
       "  <th>MIN</th>   <td> 7.013e-05</td> <td> 8.07e-05</td> <td>    0.869</td> <td> 0.385</td> <td> -8.8e-05     0.000</td>\n",
       "</tr>\n",
       "<tr>\n",
       "  <th>MXSPD</th> <td>    0.1503</td> <td>    0.009</td> <td>   17.384</td> <td> 0.000</td> <td>    0.133     0.167</td>\n",
       "</tr>\n",
       "<tr>\n",
       "  <th>SLP</th>   <td>   -0.0388</td> <td>    0.004</td> <td>  -10.350</td> <td> 0.000</td> <td>   -0.046    -0.031</td>\n",
       "</tr>\n",
       "<tr>\n",
       "  <th>SNDP</th>  <td>    0.0179</td> <td>    0.009</td> <td>    1.927</td> <td> 0.054</td> <td>   -0.000     0.036</td>\n",
       "</tr>\n",
       "<tr>\n",
       "  <th>STP</th>   <td>   -0.0014</td> <td>    0.001</td> <td>   -2.317</td> <td> 0.020</td> <td>   -0.003    -0.000</td>\n",
       "</tr>\n",
       "<tr>\n",
       "  <th>TEMP</th>  <td>   -0.0602</td> <td>    0.003</td> <td>  -23.714</td> <td> 0.000</td> <td>   -0.065    -0.055</td>\n",
       "</tr>\n",
       "<tr>\n",
       "  <th>WDSP</th>  <td>   -0.2382</td> <td>    0.012</td> <td>  -20.077</td> <td> 0.000</td> <td>   -0.261    -0.215</td>\n",
       "</tr>\n",
       "</table>\n",
       "<table class=\"simpletable\">\n",
       "<tr>\n",
       "  <th>Omnibus:</th>       <td>14332.041</td> <th>  Durbin-Watson:     </th>  <td>   2.007</td> \n",
       "</tr>\n",
       "<tr>\n",
       "  <th>Prob(Omnibus):</th>  <td> 0.000</td>   <th>  Jarque-Bera (JB):  </th> <td>114780.107</td>\n",
       "</tr>\n",
       "<tr>\n",
       "  <th>Skew:</th>           <td> 2.954</td>   <th>  Prob(JB):          </th>  <td>    0.00</td> \n",
       "</tr>\n",
       "<tr>\n",
       "  <th>Kurtosis:</th>       <td>12.054</td>   <th>  Cond. No.          </th>  <td>2.04e+05</td> \n",
       "</tr>\n",
       "</table>"
      ],
      "text/plain": [
       "<class 'statsmodels.iolib.summary.Summary'>\n",
       "\"\"\"\n",
       "                            OLS Regression Results                            \n",
       "==============================================================================\n",
       "Dep. Variable:                  LABEL   R-squared:                       0.069\n",
       "Model:                            OLS   Adj. R-squared:                  0.068\n",
       "Method:                 Least Squares   F-statistic:                     174.0\n",
       "Date:                Sat, 23 Apr 2016   Prob (F-statistic):               0.00\n",
       "Time:                        14:59:57   Log-Likelihood:                -66520.\n",
       "No. Observations:               23566   AIC:                         1.331e+05\n",
       "Df Residuals:                   23555   BIC:                         1.331e+05\n",
       "Df Model:                          10                                         \n",
       "Covariance Type:            nonrobust                                         \n",
       "==============================================================================\n",
       "                 coef    std err          t      P>|t|      [95.0% Conf. Int.]\n",
       "------------------------------------------------------------------------------\n",
       "const         40.4819      3.825     10.582      0.000        32.984    47.980\n",
       "DEWP           0.0849      0.003     30.638      0.000         0.079     0.090\n",
       "GUST           0.0495      0.007      7.208      0.000         0.036     0.063\n",
       "MAX        -6.881e-05   8.69e-05     -0.792      0.428        -0.000     0.000\n",
       "MIN         7.013e-05   8.07e-05      0.869      0.385      -8.8e-05     0.000\n",
       "MXSPD          0.1503      0.009     17.384      0.000         0.133     0.167\n",
       "SLP           -0.0388      0.004    -10.350      0.000        -0.046    -0.031\n",
       "SNDP           0.0179      0.009      1.927      0.054        -0.000     0.036\n",
       "STP           -0.0014      0.001     -2.317      0.020        -0.003    -0.000\n",
       "TEMP          -0.0602      0.003    -23.714      0.000        -0.065    -0.055\n",
       "WDSP          -0.2382      0.012    -20.077      0.000        -0.261    -0.215\n",
       "==============================================================================\n",
       "Omnibus:                    14332.041   Durbin-Watson:                   2.007\n",
       "Prob(Omnibus):                  0.000   Jarque-Bera (JB):           114780.107\n",
       "Skew:                           2.954   Prob(JB):                         0.00\n",
       "Kurtosis:                      12.054   Cond. No.                     2.04e+05\n",
       "==============================================================================\n",
       "\n",
       "Warnings:\n",
       "[1] Standard Errors assume that the covariance matrix of the errors is correctly specified.\n",
       "[2] The condition number is large, 2.04e+05. This might indicate that there are\n",
       "strong multicollinearity or other numerical problems.\n",
       "\"\"\""
      ]
     },
     "execution_count": 43,
     "metadata": {},
     "output_type": "execute_result"
    }
   ],
   "source": [
    "import pandas as pd\n",
    "import statsmodels.api as sm\n",
    "\n",
    "\n",
    "X = sm.add_constant(X)\n",
    "model1 = sm.OLS(y, X.astype(float)).fit()\n",
    "model1.summary()"
   ]
  },
  {
   "cell_type": "code",
   "execution_count": 44,
   "metadata": {
    "collapsed": false
   },
   "outputs": [
    {
     "name": "stdout",
     "output_type": "stream",
     "text": [
      "(23566, 11)\n",
      "<class 'pandas.core.series.Series'>\n",
      "(23566L,)\n",
      "                            OLS Regression Results                            \n",
      "==============================================================================\n",
      "Dep. Variable:                  LABEL   R-squared:                       0.069\n",
      "Model:                            OLS   Adj. R-squared:                  0.068\n",
      "Method:                 Least Squares   F-statistic:                     174.0\n",
      "Date:                Sat, 23 Apr 2016   Prob (F-statistic):               0.00\n",
      "Time:                        15:00:03   Log-Likelihood:                -66520.\n",
      "No. Observations:               23566   AIC:                         1.331e+05\n",
      "Df Residuals:                   23555   BIC:                         1.331e+05\n",
      "Df Model:                          10                                         \n",
      "Covariance Type:            nonrobust                                         \n",
      "==============================================================================\n",
      "                 coef    std err          t      P>|t|      [95.0% Conf. Int.]\n",
      "------------------------------------------------------------------------------\n",
      "const         40.4819      3.825     10.582      0.000        32.984    47.980\n",
      "DEWP           0.0849      0.003     30.638      0.000         0.079     0.090\n",
      "GUST           0.0495      0.007      7.208      0.000         0.036     0.063\n",
      "MAX        -6.881e-05   8.69e-05     -0.792      0.428        -0.000     0.000\n",
      "MIN         7.013e-05   8.07e-05      0.869      0.385      -8.8e-05     0.000\n",
      "MXSPD          0.1503      0.009     17.384      0.000         0.133     0.167\n",
      "SLP           -0.0388      0.004    -10.350      0.000        -0.046    -0.031\n",
      "SNDP           0.0179      0.009      1.927      0.054        -0.000     0.036\n",
      "STP           -0.0014      0.001     -2.317      0.020        -0.003    -0.000\n",
      "TEMP          -0.0602      0.003    -23.714      0.000        -0.065    -0.055\n",
      "WDSP          -0.2382      0.012    -20.077      0.000        -0.261    -0.215\n",
      "==============================================================================\n",
      "Omnibus:                    14332.041   Durbin-Watson:                   2.007\n",
      "Prob(Omnibus):                  0.000   Jarque-Bera (JB):           114780.107\n",
      "Skew:                           2.954   Prob(JB):                         0.00\n",
      "Kurtosis:                      12.054   Cond. No.                     2.04e+05\n",
      "==============================================================================\n",
      "\n",
      "Warnings:\n",
      "[1] Standard Errors assume that the covariance matrix of the errors is correctly specified.\n",
      "[2] The condition number is large, 2.04e+05. This might indicate that there are\n",
      "strong multicollinearity or other numerical problems.\n",
      "Confidence Intervals:                0          1\n",
      "const  32.983827  47.980044\n",
      "DEWP    0.079425   0.090282\n",
      "GUST    0.036045   0.062970\n",
      "MAX    -0.000239   0.000101\n",
      "MIN    -0.000088   0.000228\n",
      "MXSPD   0.133359   0.167253\n",
      "SLP    -0.046170  -0.031467\n",
      "SNDP   -0.000303   0.036021\n",
      "STP    -0.002535  -0.000212\n",
      "TEMP   -0.065130  -0.055186\n",
      "WDSP   -0.261459  -0.214948\n",
      "Parameters: const    40.481935\n",
      "DEWP      0.084853\n",
      "GUST      0.049507\n",
      "MAX      -0.000069\n",
      "MIN       0.000070\n",
      "MXSPD     0.150306\n",
      "SLP      -0.038819\n",
      "SNDP      0.017859\n",
      "STP      -0.001374\n",
      "TEMP     -0.060158\n",
      "WDSP     -0.238203\n",
      "dtype: float64\n"
     ]
    }
   ],
   "source": [
    "import statsmodels.api as sm\n",
    "\n",
    "print X.shape\n",
    "print type(y)\n",
    "print y.shape\n",
    "#mod = smf.ols(formula='Average_Score ~ Location + Sleep + Rooms + Service + Value + Clean', data=df)\n",
    "#res = mod.fit()\n",
    "#print(res.summary())\n",
    "#print df\n",
    "model = sm.OLS(y, X.astype(float))\n",
    "results = model.fit()\n",
    "print results.summary()\n",
    "print \"Confidence Intervals:\", results.conf_int()\n",
    "print \"Parameters:\", results.params"
   ]
  },
  {
   "cell_type": "code",
   "execution_count": 45,
   "metadata": {
    "collapsed": false
   },
   "outputs": [
    {
     "name": "stdout",
     "output_type": "stream",
     "text": [
      "MSE: 15.2833\n"
     ]
    }
   ],
   "source": [
    "from sklearn import ensemble\n",
    "from sklearn.metrics import mean_squared_error\n",
    "\n",
    "\n",
    "params = {'n_estimators': 500, 'max_depth': 4, 'min_samples_split': 1,\n",
    "          'learning_rate': 0.01, 'loss': 'ls'}\n",
    "gbrt = ensemble.GradientBoostingRegressor(**params)\n",
    "gbrt = gbrt.fit(X_train,y_train)\n",
    "\n",
    "mse = mean_squared_error(y_test, gbrt.predict(X_test))\n",
    "print(\"MSE: %.4f\" % mse)"
   ]
  },
  {
   "cell_type": "code",
   "execution_count": 46,
   "metadata": {
    "collapsed": false
   },
   "outputs": [
    {
     "data": {
      "text/plain": [
       "<matplotlib.text.Text at 0x2388d898>"
      ]
     },
     "execution_count": 46,
     "metadata": {},
     "output_type": "execute_result"
    },
    {
     "data": {
      "image/png": "[encoded data removed]",
      "text/plain": [
       "<matplotlib.figure.Figure at 0x23b42438>"
      ]
     },
     "metadata": {},
     "output_type": "display_data"
    }
   ],
   "source": [
    "clf = gbrt\n",
    "\n",
    "# compute test set deviance\n",
    "test_score = np.zeros((params['n_estimators'],), dtype=np.float64)\n",
    "\n",
    "for i, y_pred in enumerate(clf.staged_predict(X_test)):\n",
    "    test_score[i] = clf.loss_(y_test, y_pred)\n",
    "\n",
    "plt.figure(figsize=(12, 6))\n",
    "plt.subplot(1, 2, 1)\n",
    "plt.title('Deviance')\n",
    "plt.plot(np.arange(params['n_estimators']) + 1, clf.train_score_, 'b-',\n",
    "         label='Training Set Deviance')\n",
    "plt.plot(np.arange(params['n_estimators']) + 1, test_score, 'r-',\n",
    "         label='Test Set Deviance')\n",
    "plt.legend(loc='upper right')\n",
    "plt.xlabel('Boosting Iterations')\n",
    "plt.ylabel('Deviance')"
   ]
  },
  {
   "cell_type": "code",
   "execution_count": null,
   "metadata": {
    "collapsed": true
   },
   "outputs": [],
   "source": []
  }
 ],
 "metadata": {
  "kernelspec": {
   "display_name": "Python 2",
   "language": "python",
   "name": "python2"
  },
  "language_info": {
   "codemirror_mode": {
    "name": "ipython",
    "version": 2
   },
   "file_extension": ".py",
   "mimetype": "text/x-python",
   "name": "python",
   "nbconvert_exporter": "python",
   "pygments_lexer": "ipython2",
   "version": "2.7.11"
  }
 },
 "nbformat": 4,
 "nbformat_minor": 0
}
