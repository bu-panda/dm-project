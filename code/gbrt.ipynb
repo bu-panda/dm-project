{
 "cells": [
  {
   "cell_type": "markdown",
   "metadata": {},
   "source": [
    "### Regression - Gradient Boosting Regression Tree\n",
    "In this part, we will apply regression algorithm to predict the special weather. This script show how gradient boosting regression tree works and we will evaluate our work by standard deviation."
   ]
  },
  {
   "cell_type": "markdown",
   "metadata": {},
   "source": [
    "#### Take a sample from the whole data set"
   ]
  },
  {
   "cell_type": "code",
   "execution_count": 43,
   "metadata": {
    "collapsed": true
   },
   "outputs": [],
   "source": [
    "import random\n",
    "\n",
    "f = open('data_with_location.csv')\n",
    "fin = open('data_narrow.csv','w')\n",
    "\n",
    "for each in f:\n",
    "    i = random.random()\n",
    "    if i < 0.01:\n",
    "        fin.write(each)\n",
    "\n",
    "f.close()\n",
    "fin.close()\n",
    "\n"
   ]
  },
  {
   "cell_type": "markdown",
   "metadata": {},
   "source": [
    "### Helper functions\n",
    "There are some helper functions to extract features from the raw data set."
   ]
  },
  {
   "cell_type": "code",
   "execution_count": 44,
   "metadata": {
    "collapsed": true
   },
   "outputs": [],
   "source": [
    "import collections\n",
    "import pandas as pd\n",
    "import sklearn.utils as utils\n",
    "\n",
    "# Convert raw data location format\n",
    "# For the latitude and logitude, E,N will be positive while W,S will be negative\n",
    "def getLocation(loc):\n",
    "    rs = [0,0]\n",
    "    \n",
    "    la = loc[0]\n",
    "    lo = loc[1]\n",
    "    \n",
    "    end_la = la[-1]\n",
    "    end_lo = lo[-1]\n",
    "    \n",
    "    l1 = len(la)\n",
    "    l2 = len(lo)\n",
    "    \n",
    "    la = la[0:l1-1]\n",
    "    lo = lo[0: l2-1]\n",
    "    \n",
    "    if end_la == 'N':\n",
    "        rs[0] = float(la) / 100.0\n",
    "    else:\n",
    "        rs[0] = float(la) / -100.0\n",
    "    \n",
    "    if end_lo == 'E':\n",
    "        rs[1] = float(lo) / 100.0\n",
    "    else:\n",
    "        rs[1] = float(lo) / -100.0\n",
    "    return rs    \n",
    " \n",
    "\n",
    "# Some of the data may contains one bit flag like '*,A,I' and so on\n",
    "# This method will pop this value if it contains one bit tag\n",
    "def extractNumber(s):\n",
    "    last = s[-1]\n",
    "    l = len(s)\n",
    "    if ord(last) >= ord('0') and ord(last) <= ord('9'):\n",
    "        return s\n",
    "    else:\n",
    "        return s[0:l-1]\n",
    "\n",
    "\n",
    "# @weather_str 6-bits string. \n",
    "# @in_detail if True, return lables from 0 to 63. If False, return boolean labels\n",
    "def getSpecialWeatherLabel(weather_str, in_detail = False):\n",
    "    \n",
    "    label = 0\n",
    "    for x in range(6):\n",
    "        weight = 1 << x\n",
    "        v = int(weather_str[x])\n",
    "        label += weight*v\n",
    "    \n",
    "    if in_detail:\n",
    "        return label\n",
    "    else:\n",
    "        return label == 0\n",
    "        \n",
    "\n",
    "# For each row in the file, get its features and labels\n",
    "# @filepath input data file path\n",
    "# @return type: pandas.DataFrame\n",
    "def extractClassificationTable(filepath, in_detail = False):\n",
    "    f = open(filepath)\n",
    "    \n",
    "    fdict = collections.defaultdict(list)\n",
    "    \n",
    "    names = ['TEMP', 'DEWP', 'SLP', 'STP', 'VISIB', 'WDSP', 'MXSPD', \n",
    "             'GUST', 'MAX', 'MIN', 'SNDP', 'FOG', 'RAIN', 'SNOW', 'HAIL', \n",
    "             'THUNDER', 'TORNADO']\n",
    "    for each in f:\n",
    "        data = each.strip().split(',')\n",
    "        #get month\n",
    "        month = data[2][4:6]\n",
    "        month = int(month)\n",
    "        \n",
    "        fdict['MONTH'].append(month)\n",
    "        \n",
    "        i = 0\n",
    "        for x in xrange(3, 17, 2):\n",
    "            fdict[names[i]].append(float(data[x]))\n",
    "            i+=1\n",
    "        fdict['GUST'].append(float(data[16]))\n",
    "        \n",
    "        maxV = extractNumber(data[17])\n",
    "        minV = extractNumber(data[18])\n",
    "        \n",
    "        \n",
    "        fdict['MAX'].append(float(maxV))\n",
    "        fdict['MIN'].append(float(minV))\n",
    "        fdict['SNDP'].append(float(data[20]))\n",
    "        fdict['LABEL'].append(getSpecialWeatherLabel(data[21], in_detail))\n",
    "        \n",
    "        lati, logi = getLocation([data[-2],data[-1]])\n",
    "        fdict['LAT'].append(lati)\n",
    "        fdict['LOG'].append(logi)\n",
    "    \n",
    "    frame = pd.DataFrame(fdict)\n",
    "    \n",
    "    return frame"
   ]
  },
  {
   "cell_type": "markdown",
   "metadata": {},
   "source": [
    "### Build standard feature vectors and labels\n",
    "First I get all features and then I pop the last column which is the label."
   ]
  },
  {
   "cell_type": "code",
   "execution_count": 45,
   "metadata": {
    "collapsed": false
   },
   "outputs": [
    {
     "name": "stdout",
     "output_type": "stream",
     "text": [
      "(23251, 14)\n",
      "   DEWP   GUST    LAT  LOG   MAX   MIN  MONTH  MXSPD     SLP   SNDP     STP  \\\n",
      "0  17.1  999.9  70.56 -8.4  27.1  18.7      3   27.2  1012.7  999.9  1011.5   \n",
      "1  15.1  999.9  70.56 -8.4  22.3  17.4      4   23.3  1011.3  999.9  1010.1   \n",
      "\n",
      "   TEMP  VISIB  WDSP  \n",
      "0  23.7   19.3  16.8  \n",
      "1  20.0    7.1  15.1  \n",
      "Index([u'DEWP', u'GUST', u'LAT', u'LOG', u'MAX', u'MIN', u'MONTH', u'MXSPD',\n",
      "       u'SLP', u'SNDP', u'STP', u'TEMP', u'VISIB', u'WDSP'],\n",
      "      dtype='object')\n"
     ]
    }
   ],
   "source": [
    "classify_dataframe = extractClassificationTable('data_narrow.csv', True)\n",
    "weather_labels  =classify_dataframe.pop('LABEL')\n",
    "print classify_dataframe.shape\n",
    "print classify_dataframe.head(2)\n",
    "print classify_dataframe.columns"
   ]
  },
  {
   "cell_type": "markdown",
   "metadata": {},
   "source": [
    "### Build train and test data set\n",
    "First I randomly take N samples from the raw data set and the rest becomes the test data set."
   ]
  },
  {
   "cell_type": "code",
   "execution_count": 46,
   "metadata": {
    "collapsed": false
   },
   "outputs": [
    {
     "name": "stdout",
     "output_type": "stream",
     "text": [
      "(23251L, 14L)\n",
      "(23251L,)\n",
      "[ 0  2 18 ...,  0  0  2]\n",
      "(5000L, 14L) (5000L,)\n",
      "(18251L, 14L) (18251L,)\n"
     ]
    }
   ],
   "source": [
    "from sklearn.ensemble import RandomForestClassifier\n",
    "import numpy as np\n",
    "import matplotlib.pyplot as plt\n",
    "\n",
    "from sklearn import ensemble\n",
    "from sklearn import datasets\n",
    "from sklearn.utils import shuffle\n",
    "from sklearn.metrics import mean_squared_error\n",
    "\n",
    "\n",
    "y = weather_labels.values\n",
    "X = classify_dataframe.values\n",
    "\n",
    "X, y = utils.shuffle(X, y, random_state=1)\n",
    "print X.shape\n",
    "print y.shape\n",
    "print y\n",
    "train_set_size = 5000\n",
    "X_train = X[:train_set_size]  # selects first 10000 rows (examples) for train set\n",
    "y_train = y[:train_set_size]\n",
    "X_test = X[train_set_size:]   # selects from row 10000 until the last one for test set\n",
    "y_test = y[train_set_size:]\n",
    "print(X_train.shape), y_train.shape\n",
    "print(X_test.shape), y_test.shape"
   ]
  },
  {
   "cell_type": "markdown",
   "metadata": {},
   "source": [
    "### Evaluation\n",
    "We use mean squared error(MSE) to evaluate our model. \n",
    "$$MSE = \\frac{1}{n}\\sum^{n}_{i=1}(\\hat{Y} - Y_i)^2$$"
   ]
  },
  {
   "cell_type": "code",
   "execution_count": 47,
   "metadata": {
    "collapsed": false
   },
   "outputs": [
    {
     "name": "stdout",
     "output_type": "stream",
     "text": [
      "MSE: 15.1191\n"
     ]
    }
   ],
   "source": [
    "from sklearn import ensemble\n",
    "\n",
    "\n",
    "params = {'n_estimators': 500, 'max_depth': 4, 'min_samples_split': 1,\n",
    "          'learning_rate': 0.01, 'loss': 'ls'}\n",
    "gbrt = ensemble.GradientBoostingRegressor(**params)\n",
    "gbrt = gbrt.fit(X_train,y_train)\n",
    "\n",
    "mse = mean_squared_error(y_test, gbrt.predict(X_test))\n",
    "print(\"MSE: %.4f\" % mse)"
   ]
  },
  {
   "cell_type": "markdown",
   "metadata": {},
   "source": [
    "### Analysis\n",
    "Here we focus on the over fitting. To visualization this problem, we take two steps:\n",
    "+ for each different number of estimators, we get the score.\n",
    "+ plot these score on one graph"
   ]
  },
  {
   "cell_type": "code",
   "execution_count": 48,
   "metadata": {
    "collapsed": false
   },
   "outputs": [
    {
     "data": {
      "text/plain": [
       "<matplotlib.text.Text at 0xc76d240>"
      ]
     },
     "execution_count": 48,
     "metadata": {},
     "output_type": "execute_result"
    },
    {
     "data": {
      "image/png": "[encoded data removed]",
      "text/plain": [
       "<matplotlib.figure.Figure at 0xb7778d0>"
      ]
     },
     "metadata": {},
     "output_type": "display_data"
    }
   ],
   "source": [
    "%matplotlib inline\n",
    "clf = gbrt\n",
    "\n",
    "# compute test set deviance\n",
    "test_score = np.zeros((params['n_estimators'],), dtype=np.float64)\n",
    "\n",
    "for i, y_pred in enumerate(clf.staged_predict(X_test)):\n",
    "    test_score[i] = clf.loss_(y_test, y_pred)\n",
    "\n",
    "plt.figure(figsize=(12, 6))\n",
    "plt.subplot(1, 2, 1)\n",
    "plt.title('Deviance')\n",
    "plt.plot(np.arange(params['n_estimators']) + 1, clf.train_score_, 'b-',\n",
    "         label='Training Set Deviance')\n",
    "plt.plot(np.arange(params['n_estimators']) + 1, test_score, 'r-',\n",
    "         label='Test Set Deviance')\n",
    "plt.legend(loc='upper right')\n",
    "plt.xlabel('Boosting Iterations')\n",
    "plt.ylabel('Deviance')"
   ]
  },
  {
   "cell_type": "markdown",
   "metadata": {},
   "source": [
    "Here we find that, when the number of estimator grows, the deviance decrease quickly. Because when we increase the estimator, the result fits deeper on the train data set. But when the estimator continue growing, for example, in the graph from 300 to 500. The deviance on train data set goes down quickly while test data set deviance almost remain the same. In that case we find the case for over fitting."
   ]
  },
  {
   "cell_type": "code",
   "execution_count": null,
   "metadata": {
    "collapsed": true
   },
   "outputs": [],
   "source": []
  }
 ],
 "metadata": {
  "kernelspec": {
   "display_name": "Python 2",
   "language": "python",
   "name": "python2"
  },
  "language_info": {
   "codemirror_mode": {
    "name": "ipython",
    "version": 2
   },
   "file_extension": ".py",
   "mimetype": "text/x-python",
   "name": "python",
   "nbconvert_exporter": "python",
   "pygments_lexer": "ipython2",
   "version": "2.7.11"
  }
 },
 "nbformat": 4,
 "nbformat_minor": 0
}
